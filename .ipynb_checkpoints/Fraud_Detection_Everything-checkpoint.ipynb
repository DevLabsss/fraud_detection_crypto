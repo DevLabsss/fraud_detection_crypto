{
 "cells": [
  {
   "cell_type": "markdown",
   "id": "f17033bd",
   "metadata": {},
   "source": [
    "# Fraud Detection — Everything Notebook (Gaussian Naive Bayes)"
   ]
  },
  {
   "cell_type": "code",
   "execution_count": null,
   "id": "6bca751d",
   "metadata": {},
   "outputs": [],
   "source": [
    "\n",
    "import numpy as np, pandas as pd\n",
    "from pathlib import Path\n",
    "import matplotlib.pyplot as plt\n",
    "from sklearn.model_selection import train_test_split\n",
    "from sklearn.preprocessing import StandardScaler\n",
    "from sklearn.naive_bayes import GaussianNB\n",
    "from sklearn.metrics import accuracy_score, precision_score, recall_score, f1_score, roc_auc_score, confusion_matrix, roc_curve\n",
    "from src.data_gen import generate_synthetic_strong\n",
    "\n",
    "OUT = Path('outputs'); OUT.mkdir(exist_ok=True, parents=True)\n"
   ]
  },
  {
   "cell_type": "markdown",
   "id": "1001d1e1",
   "metadata": {},
   "source": [
    "## Generate / Load Data"
   ]
  },
  {
   "cell_type": "code",
   "execution_count": null,
   "id": "a73236a8",
   "metadata": {},
   "outputs": [],
   "source": [
    "\n",
    "df = generate_synthetic_strong(n_rows=8000, random_state=42)\n",
    "df.head()\n"
   ]
  },
  {
   "cell_type": "markdown",
   "id": "90830f31",
   "metadata": {},
   "source": [
    "## EDA — Correlation"
   ]
  },
  {
   "cell_type": "code",
   "execution_count": null,
   "id": "2474b17a",
   "metadata": {},
   "outputs": [],
   "source": [
    "\n",
    "cols=['amount','transaction_freq_24h','account_age_days','is_weekend','risk_score','is_fraud']\n",
    "corr = df[cols].corr(numeric_only=True)\n",
    "plt.figure(figsize=(6,5))\n",
    "im = plt.imshow(corr, interpolation='nearest')\n",
    "plt.title(\"Correlation Heatmap\")\n",
    "plt.xticks(range(corr.shape[1]), corr.columns, rotation=45, ha='right')\n",
    "plt.yticks(range(corr.shape[0]), corr.index)\n",
    "import numpy as np\n",
    "for (i,j),v in np.ndenumerate(corr.values):\n",
    "    plt.text(j, i, f\"{v:.2f}\", ha='center', va='center')\n",
    "plt.colorbar(im, fraction=0.046, pad=0.04)\n",
    "plt.tight_layout()\n",
    "plt.show()\n"
   ]
  },
  {
   "cell_type": "markdown",
   "id": "c7ce09b8",
   "metadata": {},
   "source": [
    "## EDA — Distributions & Label Balance"
   ]
  },
  {
   "cell_type": "code",
   "execution_count": null,
   "id": "14ab9ce5",
   "metadata": {},
   "outputs": [],
   "source": [
    "\n",
    "def show_hist(series, title, bins=40):\n",
    "    plt.figure(); plt.hist(series, bins=bins); plt.title(title); plt.tight_layout(); plt.show()\n",
    "\n",
    "show_hist(df['amount'], 'Distribution - amount')\n",
    "show_hist(df['transaction_freq_24h'], 'Distribution - transaction_freq_24h', bins=20)\n",
    "show_hist(df['account_age_days'], 'Distribution - account_age_days', bins=40)\n",
    "show_hist(df['risk_score'], 'Distribution - risk_score', bins=20)\n",
    "\n",
    "# label balance\n",
    "counts = df['is_fraud'].value_counts().sort_index()\n",
    "plt.figure(); plt.bar(['Normal (0)', 'Fraud (1)'], counts.values); plt.title('Label Balance (is_fraud)'); plt.tight_layout(); plt.show()\n"
   ]
  },
  {
   "cell_type": "markdown",
   "id": "857427f8",
   "metadata": {},
   "source": [
    "## Split 70:30, Train GaussianNB, Evaluate"
   ]
  },
  {
   "cell_type": "code",
   "execution_count": null,
   "id": "cbc72e0c",
   "metadata": {},
   "outputs": [],
   "source": [
    "\n",
    "X = df.drop(columns=['is_fraud']).copy(); y = df['is_fraud'].values\n",
    "X['log_amount'] = np.log1p(X['amount']); X = X.drop(columns=['amount'])\n",
    "Xtr,Xte,ytr,yte = train_test_split(X,y,test_size=0.30,stratify=y,random_state=42)\n",
    "sc=StandardScaler(); Xtr_s=sc.fit_transform(Xtr); Xte_s=sc.transform(Xte)\n",
    "nb=GaussianNB().fit(Xtr_s,ytr)\n",
    "y_proba = nb.predict_proba(Xte_s)[:,1]\n",
    "\n",
    "# default metrics\n",
    "y_pred_def = (y_proba >= 0.5).astype(int)\n",
    "print('Default (thr=0.5):')\n",
    "print('Acc:', accuracy_score(yte,y_pred_def))\n",
    "print('Prec:', precision_score(yte,y_pred_def, zero_division=0))\n",
    "print('Rec :', recall_score(yte,y_pred_def, zero_division=0))\n",
    "print('F1  :', f1_score(yte,y_pred_def, zero_division=0))\n",
    "print('AUC :', roc_auc_score(yte,y_proba))\n",
    "\n",
    "# ROC\n",
    "fpr,tpr,_ = roc_curve(yte,y_proba)\n",
    "plt.figure(); plt.plot(fpr,tpr); plt.plot([0,1],[0,1],'--'); plt.title('ROC Curve'); plt.xlabel('FPR'); plt.ylabel('TPR'); plt.tight_layout(); plt.show()\n"
   ]
  },
  {
   "cell_type": "markdown",
   "id": "b026a712",
   "metadata": {},
   "source": [
    "## Threshold Tuning (Target ≥ 0.75 All Metrics)"
   ]
  },
  {
   "cell_type": "code",
   "execution_count": null,
   "id": "e210b9bc",
   "metadata": {},
   "outputs": [],
   "source": [
    "\n",
    "best=None\n",
    "for thr in np.linspace(0.05,0.95,181):\n",
    "    y_pred=(y_proba>=thr).astype(int)\n",
    "    acc=accuracy_score(yte,y_pred); prec=precision_score(yte,y_pred,zero_division=0)\n",
    "    rec=recall_score(yte,y_pred,zero_division=0); f1=f1_score(yte,y_pred,zero_division=0)\n",
    "    auc=roc_auc_score(yte,y_proba)\n",
    "    if acc>=.75 and prec>=.75 and rec>=.75 and f1>=.75:\n",
    "        best=dict(threshold=float(thr),accuracy=acc,precision=prec,recall=rec,f1=f1,auc=auc); break\n",
    "\n",
    "print('Best:', best)\n",
    "\n",
    "# CM at best thr\n",
    "from sklearn.metrics import confusion_matrix\n",
    "y_pred_best=(y_proba>=best['threshold']).astype(int)\n",
    "cm = confusion_matrix(yte, y_pred_best)\n",
    "plt.figure(); plt.imshow(cm, interpolation='nearest'); plt.title(f'Confusion Matrix — thr={best['threshold']:.2f}')\n",
    "plt.xlabel('Predicted'); plt.ylabel('True')\n",
    "for (i,j),v in np.ndenumerate(cm): plt.text(j,i,str(v),ha='center',va='center')\n",
    "plt.tight_layout(); plt.show()\n"
   ]
  },
  {
   "cell_type": "markdown",
   "id": "a9e7fef9",
   "metadata": {},
   "source": [
    "## Kebijakan & Penutup"
   ]
  },
  {
   "cell_type": "code",
   "execution_count": null,
   "id": "47876d96",
   "metadata": {},
   "outputs": [],
   "source": [
    "\n",
    "print('Kebijakan:') \n",
    "print('- Amount tinggi & account_age muda -> REVIEW / 2FA')\n",
    "print('- transaction_freq_24h >= 7 -> WATCHLIST otomatis')\n",
    "print('- Weekend + nominal besar -> verifikasi manual')\n",
    "print('- prob >= 0.85 -> BLOCK & KYC ulang')\n"
   ]
  }
 ],
 "metadata": {},
 "nbformat": 4,
 "nbformat_minor": 5
}
